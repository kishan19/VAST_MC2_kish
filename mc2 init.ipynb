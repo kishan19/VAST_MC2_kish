{
 "cells": [
  {
   "cell_type": "code",
   "execution_count": 1,
   "metadata": {},
   "outputs": [],
   "source": [
    "import pandas as pd\n",
    "\n",
    "from IPython import InteractiveShell\n",
    "\n",
    "InteractiveShell.ast_node_interactivity=\"all\"\n"
   ]
  },
  {
   "cell_type": "code",
   "execution_count": 2,
   "metadata": {},
   "outputs": [],
   "source": [
    "wtr_tbl= pd.read_excel('Boonsong Lekagul waterways read.xlsx')"
   ]
  },
  {
   "cell_type": "code",
   "execution_count": 4,
   "metadata": {},
   "outputs": [
    {
     "data": {
      "text/html": [
       "<div>\n",
       "<style scoped>\n",
       "    .dataframe tbody tr th:only-of-type {\n",
       "        vertical-align: middle;\n",
       "    }\n",
       "\n",
       "    .dataframe tbody tr th {\n",
       "        vertical-align: top;\n",
       "    }\n",
       "\n",
       "    .dataframe thead th {\n",
       "        text-align: right;\n",
       "    }\n",
       "</style>\n",
       "<table border=\"1\" class=\"dataframe\">\n",
       "  <thead>\n",
       "    <tr style=\"text-align: right;\">\n",
       "      <th></th>\n",
       "      <th>id</th>\n",
       "      <th>value</th>\n",
       "      <th>location</th>\n",
       "      <th>sample date</th>\n",
       "      <th>measure</th>\n",
       "      <th>units</th>\n",
       "    </tr>\n",
       "  </thead>\n",
       "  <tbody>\n",
       "    <tr>\n",
       "      <th>0</th>\n",
       "      <td>2221</td>\n",
       "      <td>2.00</td>\n",
       "      <td>Boonsri</td>\n",
       "      <td>1998-01-11</td>\n",
       "      <td>Water temperature</td>\n",
       "      <td>C</td>\n",
       "    </tr>\n",
       "    <tr>\n",
       "      <th>1</th>\n",
       "      <td>2223</td>\n",
       "      <td>9.10</td>\n",
       "      <td>Boonsri</td>\n",
       "      <td>1998-01-11</td>\n",
       "      <td>Dissolved oxygen</td>\n",
       "      <td>mg/l</td>\n",
       "    </tr>\n",
       "    <tr>\n",
       "      <th>2</th>\n",
       "      <td>2227</td>\n",
       "      <td>0.33</td>\n",
       "      <td>Boonsri</td>\n",
       "      <td>1998-01-11</td>\n",
       "      <td>Ammonium</td>\n",
       "      <td>mg/l</td>\n",
       "    </tr>\n",
       "    <tr>\n",
       "      <th>3</th>\n",
       "      <td>2228</td>\n",
       "      <td>0.01</td>\n",
       "      <td>Boonsri</td>\n",
       "      <td>1998-01-11</td>\n",
       "      <td>Nitrites</td>\n",
       "      <td>mg/l</td>\n",
       "    </tr>\n",
       "    <tr>\n",
       "      <th>4</th>\n",
       "      <td>2229</td>\n",
       "      <td>1.47</td>\n",
       "      <td>Boonsri</td>\n",
       "      <td>1998-01-11</td>\n",
       "      <td>Nitrates</td>\n",
       "      <td>mg/l</td>\n",
       "    </tr>\n",
       "  </tbody>\n",
       "</table>\n",
       "</div>"
      ],
      "text/plain": [
       "     id  value location sample date            measure units\n",
       "0  2221   2.00  Boonsri  1998-01-11  Water temperature     C\n",
       "1  2223   9.10  Boonsri  1998-01-11   Dissolved oxygen  mg/l\n",
       "2  2227   0.33  Boonsri  1998-01-11           Ammonium  mg/l\n",
       "3  2228   0.01  Boonsri  1998-01-11           Nitrites  mg/l\n",
       "4  2229   1.47  Boonsri  1998-01-11           Nitrates  mg/l"
      ]
     },
     "execution_count": 4,
     "metadata": {},
     "output_type": "execute_result"
    }
   ],
   "source": [
    "wtr_tbl.head()\n",
    "\n"
   ]
  },
  {
   "cell_type": "markdown",
   "metadata": {},
   "source": [
    "Initial data transformation needs to take into consideration, the location on the map--boonsri, etc. \n",
    "\n",
    "The date of analysis\n",
    "\n",
    "Chemical wise. \n",
    "\n",
    "\n",
    "1. Function to return a series for a particular chemical with datetime as index\n",
    "1. Function to return a series for a particular location with datetime as index. Columns should be all chemical readings. \n"
   ]
  },
  {
   "cell_type": "code",
   "execution_count": 6,
   "metadata": {},
   "outputs": [],
   "source": [
    "def series_chem(name_chem='Ammonium',df=wtr_tbl):\n",
    "    \n",
    "    df1=df.loc[df.measure.str.contains(name_chem)]\n",
    "    df1=df1.set_index('sample date',drop=True)\n",
    "    \n",
    "    return df1\n",
    "\n"
   ]
  },
  {
   "cell_type": "code",
   "execution_count": 8,
   "metadata": {},
   "outputs": [
    {
     "name": "stdout",
     "output_type": "stream",
     "text": [
      "<class 'pandas.core.frame.DataFrame'>\n",
      "RangeIndex: 136824 entries, 0 to 136823\n",
      "Data columns (total 6 columns):\n",
      "id             136824 non-null int64\n",
      "value          136824 non-null float64\n",
      "location       136824 non-null object\n",
      "sample date    136824 non-null datetime64[ns]\n",
      "measure        136824 non-null object\n",
      "units          136824 non-null object\n",
      "dtypes: datetime64[ns](1), float64(1), int64(1), object(3)\n",
      "memory usage: 6.3+ MB\n"
     ]
    }
   ],
   "source": [
    "wtr_tbl.info()"
   ]
  }
 ],
 "metadata": {
  "kernelspec": {
   "display_name": "Python 3",
   "language": "python",
   "name": "python3"
  },
  "language_info": {
   "codemirror_mode": {
    "name": "ipython",
    "version": 3
   },
   "file_extension": ".py",
   "mimetype": "text/x-python",
   "name": "python",
   "nbconvert_exporter": "python",
   "pygments_lexer": "ipython3",
   "version": "3.6.4"
  }
 },
 "nbformat": 4,
 "nbformat_minor": 2
}
